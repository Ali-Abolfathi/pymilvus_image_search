{
  "nbformat": 4,
  "nbformat_minor": 0,
  "metadata": {
    "colab": {
      "provenance": []
    },
    "kernelspec": {
      "name": "python3",
      "display_name": "Python 3"
    },
    "language_info": {
      "name": "python"
    }
  },
  "cells": [
    {
      "cell_type": "markdown",
      "source": [
        "## Clone repo"
      ],
      "metadata": {
        "id": "6Ias39LC2Bqs"
      }
    },
    {
      "cell_type": "code",
      "source": [
        "!git clone https://github.com/Ali-Abolfathi/pymilvus_image_search.git"
      ],
      "metadata": {
        "id": "zY2rvrbf06IS"
      },
      "execution_count": null,
      "outputs": []
    },
    {
      "cell_type": "code",
      "source": [
        "%cd pymilvus_image_search"
      ],
      "metadata": {
        "id": "ctRbxa121zDu"
      },
      "execution_count": null,
      "outputs": []
    },
    {
      "cell_type": "markdown",
      "source": [
        "## Get pictures"
      ],
      "metadata": {
        "id": "TmCZjB6w01Gj"
      }
    },
    {
      "cell_type": "code",
      "source": [
        "!wget https://github.com/milvus-io/pymilvus-assets/releases/download/imagedata/reverse_image_search.zip\n",
        "!unzip -q reverse_image_search.zip -d reverse_image_search"
      ],
      "metadata": {
        "id": "Rrr347Rt2NEN"
      },
      "execution_count": null,
      "outputs": []
    },
    {
      "cell_type": "markdown",
      "source": [
        "## Install dependencies"
      ],
      "metadata": {
        "id": "8e5L_F5p2llR"
      }
    },
    {
      "cell_type": "code",
      "source": [
        "!pip install -q -r requirements.txt"
      ],
      "metadata": {
        "id": "Rpx8stwC2p_P"
      },
      "execution_count": null,
      "outputs": []
    },
    {
      "cell_type": "markdown",
      "source": [
        "## Run insert script"
      ],
      "metadata": {
        "id": "Pi4fmBVa26y3"
      }
    },
    {
      "cell_type": "code",
      "source": [
        "!python insert.py reverse_image_search/train"
      ],
      "metadata": {
        "id": "Mw0AL1Ks3AOG"
      },
      "execution_count": null,
      "outputs": []
    },
    {
      "cell_type": "markdown",
      "source": [
        "## Run Streamlit on colab"
      ],
      "metadata": {
        "id": "YHGDu8eZ6zgl"
      }
    },
    {
      "cell_type": "code",
      "source": [
        "!npm install localtunnel"
      ],
      "metadata": {
        "id": "FUpAdlzG65uJ"
      },
      "execution_count": null,
      "outputs": []
    },
    {
      "cell_type": "markdown",
      "source": [
        "### This machine ip address is password for url bellow"
      ],
      "metadata": {
        "id": "PwT5rVopDGYi"
      }
    },
    {
      "cell_type": "code",
      "source": [
        "print(\"your password for link appearing in next cell output:\")\n",
        "!curl ident.me"
      ],
      "metadata": {
        "id": "fYALHSwE_UuB"
      },
      "execution_count": null,
      "outputs": []
    },
    {
      "cell_type": "code",
      "source": [
        "!streamlit run app.py &>/content/logs.txt & npx localtunnel --port 8501"
      ],
      "metadata": {
        "id": "_uEsBC__7ATG"
      },
      "execution_count": null,
      "outputs": []
    }
  ]
}